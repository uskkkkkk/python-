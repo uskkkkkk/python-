{
 "cells": [
  {
   "cell_type": "markdown",
   "metadata": {},
   "source": [
    "#Добавление библиотек"
   ]
  },
  {
   "cell_type": "code",
   "execution_count": 1,
   "metadata": {},
   "outputs": [],
   "source": [
    "import sqlite3\n",
    "import re"
   ]
  },
  {
   "cell_type": "markdown",
   "metadata": {},
   "source": [
    "#Создание БД"
   ]
  },
  {
   "cell_type": "code",
   "execution_count": 7,
   "metadata": {},
   "outputs": [
    {
     "ename": "OperationalError",
     "evalue": "table actors already exists",
     "output_type": "error",
     "traceback": [
      "\u001b[1;31m---------------------------------------------------------------------------\u001b[0m",
      "\u001b[1;31mOperationalError\u001b[0m                          Traceback (most recent call last)",
      "Cell \u001b[1;32mIn[7], line 4\u001b[0m\n\u001b[0;32m      1\u001b[0m conn \u001b[38;5;241m=\u001b[39m sqlite3\u001b[38;5;241m.\u001b[39mconnect(\u001b[38;5;124m'\u001b[39m\u001b[38;5;124mtask1.sqlite\u001b[39m\u001b[38;5;124m'\u001b[39m) \n\u001b[0;32m      2\u001b[0m cursor \u001b[38;5;241m=\u001b[39m conn\u001b[38;5;241m.\u001b[39mcursor()\n\u001b[1;32m----> 4\u001b[0m \u001b[43mcursor\u001b[49m\u001b[38;5;241;43m.\u001b[39;49m\u001b[43mexecute\u001b[49m\u001b[43m(\u001b[49m\u001b[38;5;124;43m'''\u001b[39;49m\u001b[38;5;124;43mCREATE TABLE actors (\u001b[39;49m\n\u001b[0;32m      5\u001b[0m \u001b[38;5;124;43m                id INTEGER PRIMARY KEY,\u001b[39;49m\n\u001b[0;32m      6\u001b[0m \u001b[38;5;124;43m                name TEXT )\u001b[39;49m\n\u001b[0;32m      7\u001b[0m \u001b[38;5;124;43m'''\u001b[39;49m\u001b[43m)\u001b[49m\n\u001b[0;32m      9\u001b[0m cursor\u001b[38;5;241m.\u001b[39mexecute(\u001b[38;5;124m'''\u001b[39m\u001b[38;5;124mCREATE TABLE movies (\u001b[39m\n\u001b[0;32m     10\u001b[0m \u001b[38;5;124m                id INTEGER PRIMARY KEY,\u001b[39m\n\u001b[0;32m     11\u001b[0m \u001b[38;5;124m                title TEXT )\u001b[39m\n\u001b[0;32m     12\u001b[0m \u001b[38;5;124m'''\u001b[39m)\n\u001b[0;32m     14\u001b[0m cursor\u001b[38;5;241m.\u001b[39mexecute(\u001b[38;5;124m'''\u001b[39m\u001b[38;5;124mCREATE TABLE actor_movie ( \u001b[39m\n\u001b[0;32m     15\u001b[0m \u001b[38;5;124m               actor_id INTEGER, \u001b[39m\n\u001b[0;32m     16\u001b[0m \u001b[38;5;124m               movie_id INTEGER, \u001b[39m\n\u001b[0;32m     17\u001b[0m \u001b[38;5;124m               FOREIGN KEY (actor_id) REFERENCES actors(id), \u001b[39m\n\u001b[0;32m     18\u001b[0m \u001b[38;5;124m               FOREIGN KEY (movie_id) REFERENCES movies(id) )\u001b[39m\n\u001b[0;32m     19\u001b[0m \u001b[38;5;124m'''\u001b[39m)\n",
      "\u001b[1;31mOperationalError\u001b[0m: table actors already exists"
     ]
    }
   ],
   "source": [
    "conn = sqlite3.connect('task1.sqlite') \n",
    "cursor = conn.cursor()\n",
    "\n",
    "cursor.execute('''CREATE TABLE actors (\n",
    "                id INTEGER PRIMARY KEY,\n",
    "                name TEXT )\n",
    "''')\n",
    "\n",
    "cursor.execute('''CREATE TABLE movies (\n",
    "                id INTEGER PRIMARY KEY,\n",
    "                title TEXT )\n",
    "''')\n",
    "\n",
    "cursor.execute('''CREATE TABLE actor_movie ( \n",
    "               actor_id INTEGER, \n",
    "               movie_id INTEGER, \n",
    "               FOREIGN KEY (actor_id) REFERENCES actors(id), \n",
    "               FOREIGN KEY (movie_id) REFERENCES movies(id) )\n",
    "''')\n",
    "\n",
    "conn.commit()\n",
    "\n",
    "conn.close()"
   ]
  },
  {
   "cell_type": "markdown",
   "metadata": {},
   "source": [
    "#Достаем информацию"
   ]
  },
  {
   "cell_type": "code",
   "execution_count": 2,
   "metadata": {},
   "outputs": [],
   "source": [
    "connect_netflix = sqlite3.connect('netflix.sqlite')\n",
    "cursor_netflix = connect_netflix.cursor()\n",
    "\n",
    "cursor_netflix.execute('select title, \"cast\" from netflix_titles')\n",
    "\n",
    "# Получаем результаты запроса и сохраняем их в переменную\n",
    "data = cursor_netflix.fetchall()\n",
    "\n",
    "connect_netflix.close()"
   ]
  },
  {
   "cell_type": "markdown",
   "metadata": {},
   "source": [
    "#Преобразуем в удобный вид"
   ]
  },
  {
   "cell_type": "code",
   "execution_count": 3,
   "metadata": {},
   "outputs": [],
   "source": [
    "data_new = []\n",
    "unique_actors = set()\n",
    "for row in data:\n",
    "    movie, cast_str = row\n",
    "    cast = re.split(r' ,|, |,', cast_str)\n",
    "    unique_actors = unique_actors.union(set(cast))\n",
    "    data_new.append((movie, cast))"
   ]
  },
  {
   "cell_type": "markdown",
   "metadata": {},
   "source": [
    "#Заполнение фильмами"
   ]
  },
  {
   "cell_type": "code",
   "execution_count": 8,
   "metadata": {},
   "outputs": [],
   "source": [
    "connect_movies = sqlite3.connect('task1.sqlite')\n",
    "cursor_movies = connect_movies.cursor()\n",
    "\n",
    "for row in data_new:\n",
    "    movie, actors = row\n",
    "    cursor_movies.execute(\"INSERT INTO movies VALUES (NULL, ?)\", (movie,))\n",
    "\n",
    "connect_movies.commit()\n",
    "connect_movies.close()\n"
   ]
  },
  {
   "cell_type": "markdown",
   "metadata": {},
   "source": [
    "#Заполение актерами"
   ]
  },
  {
   "cell_type": "code",
   "execution_count": 9,
   "metadata": {},
   "outputs": [],
   "source": [
    "connect_actors = sqlite3.connect('task1.sqlite')\n",
    "cursor_actors = connect_actors.cursor()\n",
    "\n",
    "for actor in unique_actors:\n",
    "    cursor_actors.execute(\"INSERT INTO actors VALUES (NULL, ?)\", (actor,))\n",
    "\n",
    "connect_actors.commit()\n",
    "connect_actors.close()"
   ]
  },
  {
   "cell_type": "markdown",
   "metadata": {},
   "source": [
    "#Соединение многие-ко-многим"
   ]
  },
  {
   "cell_type": "code",
   "execution_count": 4,
   "metadata": {},
   "outputs": [],
   "source": [
    "connect_task1 = sqlite3.connect('task1.sqlite')\n",
    "\n",
    "cursor_movies = connect_task1.cursor()\n",
    "cursor_actors = connect_task1.cursor()\n",
    "cursor_actor_movie = connect_task1.cursor()\n",
    "\n",
    "for i in data_new:\n",
    "    movie, actors = i\n",
    "    cursor_movies.execute('SELECT id FROM movies WHERE title = ?', (movie,))\n",
    "    movie_id = cursor_movies.fetchone()\n",
    "    for actor in actors:\n",
    "        cursor_actors.execute('SELECT id FROM actors WHERE name = ?', (actor,))\n",
    "        actor_id = cursor_actors.fetchone()   \n",
    "        cursor_actor_movie.execute(\"INSERT INTO actor_movie (actor_id, movie_id) VALUES (?, ?)\", (actor_id[0], movie_id[0]))  # добавление записи в таблицу\n",
    "\n",
    "\n",
    "connect_task1.commit()\n",
    "connect_task1.close()"
   ]
  },
  {
   "cell_type": "markdown",
   "metadata": {},
   "source": [
    "#поиск актеров"
   ]
  },
  {
   "cell_type": "code",
   "execution_count": 5,
   "metadata": {},
   "outputs": [
    {
     "name": "stdout",
     "output_type": "stream",
     "text": [
      "Самая часто работающая друг с другом пара актеров:\n",
      "Robb Wells и John Paul Tremblay - сыграли вместе в 15 фильмах\n"
     ]
    }
   ],
   "source": [
    "conn = sqlite3.connect('task1.sqlite')\n",
    "cursor = conn.cursor()\n",
    "\n",
    "cursor.execute('''\n",
    "    SELECT a1.name AS actor1_name, a2.name AS actor2_name, COUNT(*) AS movies_together\n",
    "    FROM actor_movie am1\n",
    "    JOIN actor_movie am2 ON am1.movie_id = am2.movie_id AND am1.actor_id < am2.actor_id\n",
    "    JOIN actors a1 ON am1.actor_id = a1.id\n",
    "    JOIN actors a2 ON am2.actor_id = a2.id\n",
    "    GROUP BY actor1_name, actor2_name\n",
    "    ORDER BY movies_together DESC\n",
    "    LIMIT 1\n",
    "''')\n",
    "\n",
    "result = cursor.fetchone()\n",
    "\n",
    "print(\"Самая часто работающая друг с другом пара актеров:\")\n",
    "print(f\"{result[0]} и {result[1]} - сыграли вместе в {result[2]} фильмах\")\n",
    "\n",
    "conn.close()\n"
   ]
  }
 ],
 "metadata": {
  "kernelspec": {
   "display_name": "Python 3",
   "language": "python",
   "name": "python3"
  },
  "language_info": {
   "codemirror_mode": {
    "name": "ipython",
    "version": 3
   },
   "file_extension": ".py",
   "mimetype": "text/x-python",
   "name": "python",
   "nbconvert_exporter": "python",
   "pygments_lexer": "ipython3",
   "version": "3.11.7"
  }
 },
 "nbformat": 4,
 "nbformat_minor": 2
}
